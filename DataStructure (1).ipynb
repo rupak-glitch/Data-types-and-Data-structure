{
  "nbformat": 4,
  "nbformat_minor": 0,
  "metadata": {
    "colab": {
      "provenance": []
    },
    "kernelspec": {
      "name": "python3",
      "display_name": "Python 3"
    },
    "language_info": {
      "name": "python"
    }
  },
  "cells": [
    {
      "cell_type": "code",
      "execution_count": 27,
      "metadata": {
        "id": "KHfWYEk9hNy5"
      },
      "outputs": [],
      "source": []
    },
    {
      "cell_type": "markdown",
      "source": [
        "#Data Types and Structures\n"
      ],
      "metadata": {
        "id": "TKBz6cQWhe4B"
      }
    },
    {
      "cell_type": "markdown",
      "source": [
        "1.   What are data structures, and why are they important?\n",
        "    - Data structures are ways to organize and store data so it can be used efficiently.They are important because they:\n",
        "     -Improve performance (faster search, insert, delete)                      -  Use memory efficiently.\n",
        "    - Make programs scalable and easier to manage.\n",
        "    - Are used in real-world systems like search engines, file systems, and     social media."
      ],
      "metadata": {
        "id": "-RzVfqjYhlxP"
      }
    },
    {
      "cell_type": "markdown",
      "source": [
        "2. Explain the difference between mutable and immutable data types with examples.\n",
        "  - Mutable data types → Their contents can be changed without changing their identity. examples - list ,dictionary,set"
      ],
      "metadata": {
        "id": "eECYmJUFilQ1"
      }
    },
    {
      "cell_type": "code",
      "source": [
        "list1 = [1, 2, 3]\n",
        "list1[0] = 5\n",
        "list1"
      ],
      "metadata": {
        "colab": {
          "base_uri": "https://localhost:8080/"
        },
        "id": "O2sYF5Qvke4q",
        "outputId": "8e8e27c1-3d04-4c21-865a-98d32ec0be94"
      },
      "execution_count": 28,
      "outputs": [
        {
          "output_type": "execute_result",
          "data": {
            "text/plain": [
              "[5, 2, 3]"
            ]
          },
          "metadata": {},
          "execution_count": 28
        }
      ]
    },
    {
      "cell_type": "markdown",
      "source": [
        "  -  Immutable data types → Their contents cannot be changed; any modification creates a new object. examples - tuple,string"
      ],
      "metadata": {
        "id": "52DK91yAkogM"
      }
    },
    {
      "cell_type": "code",
      "source": [
        "tup1 = (1, 2, 3)\n",
        "tup1[0] = 5"
      ],
      "metadata": {
        "colab": {
          "base_uri": "https://localhost:8080/",
          "height": 164
        },
        "id": "6dKN1jTgk-FI",
        "outputId": "18eb9388-cffb-4653-bd8d-484d651ad889"
      },
      "execution_count": 29,
      "outputs": [
        {
          "output_type": "error",
          "ename": "TypeError",
          "evalue": "'tuple' object does not support item assignment",
          "traceback": [
            "\u001b[0;31m---------------------------------------------------------------------------\u001b[0m",
            "\u001b[0;31mTypeError\u001b[0m                                 Traceback (most recent call last)",
            "\u001b[0;32m/tmp/ipython-input-3902053748.py\u001b[0m in \u001b[0;36m<cell line: 0>\u001b[0;34m()\u001b[0m\n\u001b[1;32m      1\u001b[0m \u001b[0mtup1\u001b[0m \u001b[0;34m=\u001b[0m \u001b[0;34m(\u001b[0m\u001b[0;36m1\u001b[0m\u001b[0;34m,\u001b[0m \u001b[0;36m2\u001b[0m\u001b[0;34m,\u001b[0m \u001b[0;36m3\u001b[0m\u001b[0;34m)\u001b[0m\u001b[0;34m\u001b[0m\u001b[0;34m\u001b[0m\u001b[0m\n\u001b[0;32m----> 2\u001b[0;31m \u001b[0mtup1\u001b[0m\u001b[0;34m[\u001b[0m\u001b[0;36m0\u001b[0m\u001b[0;34m]\u001b[0m \u001b[0;34m=\u001b[0m \u001b[0;36m5\u001b[0m\u001b[0;34m\u001b[0m\u001b[0;34m\u001b[0m\u001b[0m\n\u001b[0m",
            "\u001b[0;31mTypeError\u001b[0m: 'tuple' object does not support item assignment"
          ]
        }
      ]
    },
    {
      "cell_type": "markdown",
      "source": [
        "3.   What are the main differences between lists and tuples in Python ?\n",
        "    -   Mutability\n",
        "\n",
        "        List: Mutable (can be changed).\n",
        "\n",
        "        Tuple: Immutable (cannot be changed).\n",
        "\n",
        "    - Syntax\n",
        "\n",
        "        List: Created using [] → [1, 2, 3]\n",
        "\n",
        "        Tuple: Created using () → (1, 2, 3)\n",
        "\n",
        "    - Performance\n",
        "\n",
        "        List: Slower due to mutability.\n",
        "\n",
        "        Tuple: Faster due to immutability.\n",
        "\n",
        "    -  Use Case\n",
        "\n",
        "        list: When data needs to change\n",
        "        \n",
        "        Tuple: When data should stay constant."
      ],
      "metadata": {
        "id": "xejTPnf2ldf_"
      }
    },
    {
      "cell_type": "markdown",
      "source": [
        "4. Describe how dictionaries store data\n",
        "  -  In Python, dictionaries store data as key–value pairs.\n",
        "\n",
        "     Each key is unique and acts like an index.\n",
        "\n",
        "     The value is the data linked to that key.\n",
        "\n",
        "    Internally, Python uses a hash table to store keys, which makes lookups, insertions, and deletions very fast (average O(1) time).\n",
        "\n",
        "     Example:\n",
        "     student = {\"name\": \"Ravi\", \"age\": 20}"
      ],
      "metadata": {
        "id": "maUd2_-1meyW"
      }
    },
    {
      "cell_type": "markdown",
      "source": [
        "5. Why might you use a set instead of a list in Python ?\n",
        "    -      You might use a set instead of a list when:\n",
        "\n",
        "          You need unique elements → Sets automatically remove duplicates.\n",
        "\n",
        "        Fast membership checks → Checking if an item exists is faster in sets (average O(1)) than in lists (O(n)).\n",
        "\n",
        "        Mathematical operations → Sets support union, intersection, and difference easily.\n",
        "\n",
        "      Example:\n",
        "\n",
        "                    nums = {1, 2, 3, 3}\n",
        "                    \n",
        "                    print(nums)  # {1, 2, 3} → duplicates removed\n",
        "\n",
        "\n",
        "\n",
        "\n",
        "\n",
        "\n",
        "\n",
        "\n",
        "\n",
        "\n",
        "\n",
        "\n",
        "\n"
      ],
      "metadata": {
        "id": "hfRhkigem9bb"
      }
    },
    {
      "cell_type": "markdown",
      "source": [
        "6.  What is a string in Python, and how is it different from a list\n",
        "      -        A string in Python is a sequence of characters enclosed in quotes (' '        or \" \").\n",
        "\n",
        "  -      Differences from a list:\n",
        "\n",
        "      Mutability → Strings are immutable; lists are mutable.\n",
        "\n",
        "      Elements → Strings store characters; lists can store any data type.\n",
        "\n",
        "      Syntax →\n",
        "\n",
        "                String: \"hello\"\n",
        "\n",
        "                List: [\"h\", \"e\", \"l\", \"l\", \"o\"]\n",
        "\n"
      ],
      "metadata": {
        "id": "y-B7bu7lnmIp"
      }
    },
    {
      "cell_type": "markdown",
      "source": [
        "7.  How do tuples ensure data integrity in Python ?\n",
        "      -  Tuples ensure data integrity in Python because they are immutable—once   created, their elements cannot be changed, added, or removed.\n",
        "    This means the data stays fixed and protected from accidental modification.\n",
        "\n",
        "      Example:\n",
        "\n",
        "    coordinates = (10, 20)\n",
        "\n",
        "    coordinates[0] = 15  # ❌ Error: tuple is immutable"
      ],
      "metadata": {
        "id": "qq1y1YtuoL5j"
      }
    },
    {
      "cell_type": "markdown",
      "source": [
        "8.  What is a hash table, and how does it relate to dictionaries in Python ?\n",
        "  -      A hash table is a data structure that stores data in key–value pairs using a hash function to map each key to a specific location (index) in memory.\n",
        "\n",
        "   - In Python, dictionaries are implemented using hash tables:\n",
        "\n",
        "   - Keys are hashed to get an index.\n",
        "\n",
        "     - Values are stored at that index.\n",
        "\n",
        "     - This makes lookups, insertions, and deletions very fast (average O(1) time).\n",
        "\n",
        "   - Example:\n",
        "\n",
        "   student = {\"name\": \"Ravi\", \"age\": 20}  # stored internally in a hash table"
      ],
      "metadata": {
        "id": "0ZrY_28Vose6"
      }
    },
    {
      "cell_type": "markdown",
      "source": [
        "9.  Can lists contain different data types in Python ?\n",
        "\n",
        "    - in Python, lists can contain different data types.\n",
        "    - A single list can store integers, strings, floats, and even other lists or objects.\n",
        "\n",
        "   - Example:\n",
        "\n",
        "              my_list = [10, \"hello\", 3.5, [1, 2]]\n",
        "\n",
        "              print(my_list)  # [10, 'hello', 3.5, [1, 2]]"
      ],
      "metadata": {
        "id": "Gx_RGRl2pcML"
      }
    },
    {
      "cell_type": "markdown",
      "source": [
        "10.     Explain why strings are immutable in Python   \n",
        "\n",
        "        - Strings are immutable in Python because once they are created, their contents cannot be changed.\n",
        "        - text = \"hello\"\n",
        "\n",
        "          text[0] = \"H\"  #  Error: strings can't be modified\n"
      ],
      "metadata": {
        "id": "6vtqBVgJp6Kh"
      }
    },
    {
      "cell_type": "markdown",
      "source": [
        "11.  What advantages do dictionaries offer over lists for certain tasks ?\n",
        "     -    Advantages of dictionaries over lists:\n",
        "\n",
        "        - Faster lookups → Dictionaries use a hash table, so finding a value by key is O(1) on average, while lists are O(n).\n",
        "\n",
        "         - Meaningful keys → Data is stored with descriptive keys instead of numeric indexes, making code easier to read.\n",
        "\n",
        "        - No need to search by index → You can directly access a value using its key.\n",
        "\n",
        "         - Example:\n",
        "          \n",
        "                  student = {\"name\": \"Ravi\", \"age\": 20}\n",
        "\n",
        "                  print(student[\"name\"])"
      ],
      "metadata": {
        "id": "uvefMdWMqWRw"
      }
    },
    {
      "cell_type": "markdown",
      "source": [
        "12.    Describe a scenario where using a tuple would be preferable over a list.\n",
        "      -  Scenario:\n",
        "          When you want to store fixed, unchangeable data, such as geographic coordinates.\n",
        "\n",
        "        Example:\n",
        "\n",
        "              coordinates = (28.6139, 77.2090)  # Latitude, Longitude\n",
        "Here, a tuple is better than a list because:\n",
        "\n",
        "        The data should not be modified.\n",
        "\n",
        "        Tuples are faster and use less memory than lists."
      ],
      "metadata": {
        "id": "lGbLDKZ2yHSY"
      }
    },
    {
      "cell_type": "markdown",
      "source": [
        "13.  How do sets handle duplicate values in Python ?\n",
        "   -  In Python, sets automatically remove duplicate values.\n",
        "When you add an element that already exists, the set ignores it.\n",
        "\n",
        "       Example:\n",
        "\n",
        "                  nums = {1, 2, 2, 3}\n",
        "\n",
        "                 print(nums)  # {1, 2, 3}"
      ],
      "metadata": {
        "id": "xfqr62gvymY9"
      }
    },
    {
      "cell_type": "markdown",
      "source": [
        "14.  How does the “in” keyword work differently for lists and dictionaries ?\n",
        "    - For lists:\n",
        "in checks if a value exists in the list.\n",
        "\n",
        "        nums = [1, 2, 3]\n",
        "\n",
        "        print(2 in nums)  # True\n",
        "  - For dictionaries:\n",
        "      in checks if a key exists (not the value).\n",
        "\n",
        "         student = {\"name\": \"Ravi\", \"age\": 20}\n",
        "\n",
        "         print(\"name\" in student)   # True\n",
        "         \n",
        "         print(\"Ravi\" in student)   # False"
      ],
      "metadata": {
        "id": "xAKe99_dy7t1"
      }
    },
    {
      "cell_type": "markdown",
      "source": [
        "15.   Can you modify the elements of a tuple? Explain why or why not ?\n",
        "     - No you cannot modify the elements of a tuple because tuples are immutable in Python.\n",
        "Once created, their elements cannot be changed, added, or removed.\n",
        "\n",
        "     Example:\n",
        "\n",
        "           tup = (1, 2, 3)\n",
        "\n",
        "           tup[0] = 5  # Error: 'tuple' object does not support item assignment"
      ],
      "metadata": {
        "id": "V8wNMhc4zesm"
      }
    },
    {
      "cell_type": "markdown",
      "source": [
        "16.  What is a nested dictionary, and give an example of its use case ?\n",
        "    - A nested dictionary is a dictionary where each value can be another dictionary.\n",
        "\n",
        "    - Use case: Storing related data in a structured way, like student records.\n",
        "\n",
        "       Example:\n",
        "\n",
        "                        students = {\n",
        "\n",
        "                             \"101\": {\"name\": \"Ravi\", \"age\": 20},\n",
        "                             \"102\": {\"name\": \"Asha\", \"age\": 22}\n",
        "                                                                 }\n",
        "                               print(students[\"102\"][\"age\"])  # 22\n"
      ],
      "metadata": {
        "id": "CLi6DR09z6jW"
      }
    },
    {
      "cell_type": "markdown",
      "source": [
        "17.  Describe the time complexity of accessing elements in a dictionary.\n",
        "     -  Accessing elements in a dictionary has an average time complexity of O(1) because Python uses a hash table internally.\n",
        "\n",
        "         - Average case: O(1) → Very fast lookups.\n",
        "\n",
        "         - Worst case: O(n) → Rare, happens only if many keys have the same hash (hash collisions).\n",
        "\n",
        "         Example:\n",
        "\n",
        "                     data = {\"a\": 1, \"b\": 2}\n",
        "                     print(data[\"b\"])  # O(1) average"
      ],
      "metadata": {
        "id": "sqch9jsS6gBn"
      }
    },
    {
      "cell_type": "markdown",
      "source": [
        "18. In what situations are lists preferred over dictionaries ?\n",
        "    -     Lists are preferred over dictionaries when:\n",
        "\n",
        "          Order matters → Lists maintain the order of elements by index.\n",
        "\n",
        "          No need for keys → You just need a simple collection of items.\n",
        "\n",
        "          Duplicate values are allowed → Unlike sets, lists can store repeated elements.\n",
        "\n",
        "          Sequential operations → When you often access items by position (index).\n",
        "\n",
        "          Example:    \n",
        "                     fruits = [\"apple\", \"banana\", \"apple\"]  # duplicates allowed\n"
      ],
      "metadata": {
        "id": "cCjzUTlt88_e"
      }
    },
    {
      "cell_type": "markdown",
      "source": [
        "19.    Why are dictionaries considered unordered, and how does that affect data retrieval?\n",
        "    -  Dictionaries are considered unordered because their elements are stored based on hash values of keys, not in the order they were added (before Python 3.7).\n",
        "\n",
        "        In modern Python (3.7+), dictionaries preserve insertion order, but this order is not used for fast lookups—keys are still retrieved via hashing.\n",
        "\n",
        "        Effect on retrieval: You cannot rely on numeric indexing (like lists); you must use the key to access a value.\n",
        "\n",
        "        Example:\n",
        "\n",
        "                            data = {\"b\": 2, \"a\": 1}\n",
        "                            print(data[\"a\"])  # Access by key, not position\n",
        "\n",
        "\n"
      ],
      "metadata": {
        "id": "oLyicelB9kaf"
      }
    },
    {
      "cell_type": "markdown",
      "source": [
        "20. Explain the difference between a list and a dictionary in terms of data retrieval.\n",
        "   - Difference in data retrieval:\n",
        "\n",
        "     - List: Access elements by index (position).\n",
        "\n",
        "            fruits = [\"apple\", \"banana\"]\n",
        "            print(fruits[0])  # apple\n",
        "\n",
        "      - Dictionary: Access elements by key (name/identifier).\n",
        "     \n",
        "              student = {\"name\": \"Ravi\", \"age\": 20}\n",
        "            print(student[\"name\"])  # Ravi\n",
        "                        "
      ],
      "metadata": {
        "id": "hGedX3fp98FT"
      }
    },
    {
      "cell_type": "markdown",
      "source": [
        "#practical questions"
      ],
      "metadata": {
        "id": "kgaj-YnS-sjU"
      }
    },
    {
      "cell_type": "code",
      "source": [
        " # 1.  Write a code to create a string with your name and print it .\n",
        "\n",
        "str1=\"Rupak Kumar\"\n",
        "print(str1)"
      ],
      "metadata": {
        "colab": {
          "base_uri": "https://localhost:8080/"
        },
        "id": "HEC-Hcrcy7Bf",
        "outputId": "34704cb7-3183-4475-eff5-0f7ddc00e5fd"
      },
      "execution_count": 38,
      "outputs": [
        {
          "output_type": "stream",
          "name": "stdout",
          "text": [
            "Rupak Kumar\n"
          ]
        }
      ]
    },
    {
      "cell_type": "code",
      "source": [
        "#2. Write a code to find the length of the string \"Hello World\"\n",
        "\n",
        "len(\"Hello World\")\n"
      ],
      "metadata": {
        "colab": {
          "base_uri": "https://localhost:8080/"
        },
        "id": "Dwj1sxyy_VVn",
        "outputId": "4df46ad6-4b69-4156-e4f6-91ac59f6510b"
      },
      "execution_count": 37,
      "outputs": [
        {
          "output_type": "execute_result",
          "data": {
            "text/plain": [
              "11"
            ]
          },
          "metadata": {},
          "execution_count": 37
        }
      ]
    },
    {
      "cell_type": "code",
      "source": [
        "#3. Write a code to slice the first 3 characters from the string \"Python Programming\"\n",
        "\"Python Programming\"[:3]\n"
      ],
      "metadata": {
        "colab": {
          "base_uri": "https://localhost:8080/",
          "height": 36
        },
        "id": "HDT0rb7u_uyw",
        "outputId": "3cdbaca4-2c7a-4cc5-d9a1-553d65039563"
      },
      "execution_count": 30,
      "outputs": [
        {
          "output_type": "execute_result",
          "data": {
            "text/plain": [
              "'Pyt'"
            ],
            "application/vnd.google.colaboratory.intrinsic+json": {
              "type": "string"
            }
          },
          "metadata": {},
          "execution_count": 30
        }
      ]
    },
    {
      "cell_type": "code",
      "source": [
        "#4.  Write a code to convert the string \"hello\" to uppercase\n",
        "\n",
        "str1=\"hello\"\n",
        "str1.upper()"
      ],
      "metadata": {
        "colab": {
          "base_uri": "https://localhost:8080/",
          "height": 36
        },
        "id": "l97f5qKOAO32",
        "outputId": "11d60852-fca2-4c96-f12f-92e7c6f008f8"
      },
      "execution_count": 31,
      "outputs": [
        {
          "output_type": "execute_result",
          "data": {
            "text/plain": [
              "'HELLO'"
            ],
            "application/vnd.google.colaboratory.intrinsic+json": {
              "type": "string"
            }
          },
          "metadata": {},
          "execution_count": 31
        }
      ]
    },
    {
      "cell_type": "code",
      "source": [
        "#5. Write a code to replace the word \"apple\" with \"orange\" in the string \"I like apple\"\n",
        "\n",
        "str1=\"I like apple\"\n",
        "str1.replace('apple','orange')"
      ],
      "metadata": {
        "colab": {
          "base_uri": "https://localhost:8080/",
          "height": 36
        },
        "id": "AN8aXiw2AbQP",
        "outputId": "c0a5fcd9-c77c-4758-a1c9-b6e06c0aa223"
      },
      "execution_count": 32,
      "outputs": [
        {
          "output_type": "execute_result",
          "data": {
            "text/plain": [
              "'I like orange'"
            ],
            "application/vnd.google.colaboratory.intrinsic+json": {
              "type": "string"
            }
          },
          "metadata": {},
          "execution_count": 32
        }
      ]
    },
    {
      "cell_type": "code",
      "source": [
        "#6.Write a code to create a list with numbers 1 to 5 and print it\n",
        "\n",
        "l1=list(range(1,6))\n",
        "l1\n"
      ],
      "metadata": {
        "colab": {
          "base_uri": "https://localhost:8080/"
        },
        "id": "g81A3Uh2EnCW",
        "outputId": "5402013e-8dea-4ecf-9e83-639f4f9eae91"
      },
      "execution_count": 36,
      "outputs": [
        {
          "output_type": "execute_result",
          "data": {
            "text/plain": [
              "[1, 2, 3, 4, 5]"
            ]
          },
          "metadata": {},
          "execution_count": 36
        }
      ]
    },
    {
      "cell_type": "code",
      "source": [
        "#7.Write a code to append the number 10 to the list [1, 2, 3, 4]\n",
        "\n",
        "l1=[1,2,3,4]\n",
        "l1.append(10)\n",
        "print(l1)"
      ],
      "metadata": {
        "colab": {
          "base_uri": "https://localhost:8080/"
        },
        "id": "nlZEDDY7FYsV",
        "outputId": "54c39793-9267-476d-db85-0c68c2541cbb"
      },
      "execution_count": 39,
      "outputs": [
        {
          "output_type": "stream",
          "name": "stdout",
          "text": [
            "[1, 2, 3, 4, 10]\n"
          ]
        }
      ]
    },
    {
      "cell_type": "code",
      "source": [
        "#8.Write a code to remove the number 3 from the list [1, 2, 3, 4, 5]\n",
        "\n",
        "l1=[1,2,3,4,5]\n",
        "l1.remove(3)\n",
        "l1"
      ],
      "metadata": {
        "colab": {
          "base_uri": "https://localhost:8080/"
        },
        "id": "GrwO54HvFu5M",
        "outputId": "d0c575ae-b9b3-4c1c-e7c5-9aed7785d688"
      },
      "execution_count": 40,
      "outputs": [
        {
          "output_type": "execute_result",
          "data": {
            "text/plain": [
              "[1, 2, 4, 5]"
            ]
          },
          "metadata": {},
          "execution_count": 40
        }
      ]
    },
    {
      "cell_type": "code",
      "source": [
        "#9. Write a code to access the second element in the list ['a', 'b', 'c', 'd']\n",
        "\n",
        "l1=['a', 'b', 'c', 'd']\n",
        "l1[1]"
      ],
      "metadata": {
        "colab": {
          "base_uri": "https://localhost:8080/",
          "height": 36
        },
        "id": "SAvo41p-F55W",
        "outputId": "fe151def-12f0-4834-a90c-81fd7b7a31fd"
      },
      "execution_count": 41,
      "outputs": [
        {
          "output_type": "execute_result",
          "data": {
            "text/plain": [
              "'b'"
            ],
            "application/vnd.google.colaboratory.intrinsic+json": {
              "type": "string"
            }
          },
          "metadata": {},
          "execution_count": 41
        }
      ]
    },
    {
      "cell_type": "code",
      "source": [
        "#10. Write a code to reverse the list [10, 20, 30, 40, 50].\n",
        "\n",
        "l1=[10, 20, 30, 40, 50]\n",
        "l1[::-1]"
      ],
      "metadata": {
        "colab": {
          "base_uri": "https://localhost:8080/"
        },
        "id": "3DYvbDDNGFmk",
        "outputId": "334c2695-109b-49d5-ceaf-8118cb2f36cc"
      },
      "execution_count": 42,
      "outputs": [
        {
          "output_type": "execute_result",
          "data": {
            "text/plain": [
              "[50, 40, 30, 20, 10]"
            ]
          },
          "metadata": {},
          "execution_count": 42
        }
      ]
    },
    {
      "cell_type": "code",
      "source": [
        "#11. Write a code to create a tuple with the elements 100, 200, 300 and print it.\n",
        "\n",
        "tup1=(100,200,300)\n",
        "print(tup1)"
      ],
      "metadata": {
        "colab": {
          "base_uri": "https://localhost:8080/"
        },
        "id": "PCs2vF9VGQCW",
        "outputId": "1a78648f-8559-413b-a751-49d46dde0bc4"
      },
      "execution_count": 44,
      "outputs": [
        {
          "output_type": "stream",
          "name": "stdout",
          "text": [
            "(100, 200, 300)\n"
          ]
        }
      ]
    },
    {
      "cell_type": "code",
      "source": [
        "#12.  Write a code to access the second-to-last element of the tuple ('red', 'green', 'blue', 'yellow')\n",
        "\n",
        "tup1=('red', 'green', 'blue', 'yellow')\n",
        "print(tup1[-2])"
      ],
      "metadata": {
        "colab": {
          "base_uri": "https://localhost:8080/"
        },
        "id": "yL5Mz_YqGi7r",
        "outputId": "8ab66b4e-8330-468e-e375-65b7a6cb0778"
      },
      "execution_count": 47,
      "outputs": [
        {
          "output_type": "stream",
          "name": "stdout",
          "text": [
            "blue\n"
          ]
        }
      ]
    },
    {
      "cell_type": "code",
      "source": [
        "#13.  Write a code to find the minimum number in the tuple (10, 20, 5, 15).\n",
        "\n",
        "tup1=(10, 20, 5, 15)\n",
        "min(tup1)"
      ],
      "metadata": {
        "colab": {
          "base_uri": "https://localhost:8080/"
        },
        "id": "86FxKpVGHawP",
        "outputId": "0d21cfe5-c6b5-47ff-ccb2-7448ee4ac94d"
      },
      "execution_count": 48,
      "outputs": [
        {
          "output_type": "execute_result",
          "data": {
            "text/plain": [
              "5"
            ]
          },
          "metadata": {},
          "execution_count": 48
        }
      ]
    },
    {
      "cell_type": "code",
      "source": [
        "#14.Write a code to find the index of the element \"cat\" in the tuple ('dog', 'cat', 'rabbit').\n",
        "\n",
        "tup1=('dog', 'cat', 'rabbit')\n",
        "tup1.index('cat')\n",
        "\n"
      ],
      "metadata": {
        "colab": {
          "base_uri": "https://localhost:8080/"
        },
        "id": "9_yYGFq7Hkp5",
        "outputId": "cc883e15-24f3-44ce-a9a8-ba49fb8d72e5"
      },
      "execution_count": 49,
      "outputs": [
        {
          "output_type": "execute_result",
          "data": {
            "text/plain": [
              "1"
            ]
          },
          "metadata": {},
          "execution_count": 49
        }
      ]
    },
    {
      "cell_type": "code",
      "source": [
        "#15. Write a code to create a tuple containing three different fruits and check if \"kiwi\" is in it.\n",
        "\n",
        "tup1=('apple', 'banana', 'orange')\n",
        "'kiwi' in tup1"
      ],
      "metadata": {
        "colab": {
          "base_uri": "https://localhost:8080/"
        },
        "id": "nLJfvYnHH1zn",
        "outputId": "958586d4-4b5d-48c3-f281-ae6f53aad8b7"
      },
      "execution_count": 50,
      "outputs": [
        {
          "output_type": "execute_result",
          "data": {
            "text/plain": [
              "False"
            ]
          },
          "metadata": {},
          "execution_count": 50
        }
      ]
    },
    {
      "cell_type": "code",
      "source": [
        "#16.write a code to create a set with the elements 'a', 'b', 'c' and print it.\n",
        "\n",
        "set1={'a','b','c'}\n",
        "print(set1)"
      ],
      "metadata": {
        "colab": {
          "base_uri": "https://localhost:8080/"
        },
        "id": "564ZeEwGIBuc",
        "outputId": "46d40b0c-a6eb-4ddc-b1e6-5ceac3b9eb23"
      },
      "execution_count": 51,
      "outputs": [
        {
          "output_type": "stream",
          "name": "stdout",
          "text": [
            "{'b', 'c', 'a'}\n"
          ]
        }
      ]
    },
    {
      "cell_type": "code",
      "source": [
        "#17.Write a code to clear all elements from the set {1, 2, 3, 4, 5}.\n",
        "\n",
        "set1={1, 2, 3, 4, 5}\n",
        "set1.clear()\n",
        "print(set1)"
      ],
      "metadata": {
        "colab": {
          "base_uri": "https://localhost:8080/"
        },
        "id": "A9VjL7RhIY6L",
        "outputId": "1a389089-d871-4b19-aa3c-a6bd8f8be7a6"
      },
      "execution_count": 54,
      "outputs": [
        {
          "output_type": "stream",
          "name": "stdout",
          "text": [
            "set()\n"
          ]
        }
      ]
    },
    {
      "cell_type": "code",
      "source": [
        "#18.Write a code to remove the element 4 from the set {1, 2, 3, 4}.\n",
        "\n",
        "set1={1, 2, 3, 4}\n",
        "set1.remove(4)\n",
        "print(set1)"
      ],
      "metadata": {
        "colab": {
          "base_uri": "https://localhost:8080/"
        },
        "id": "YqFEgwvjIqcT",
        "outputId": "06116ec3-daac-470c-c903-a5736621f63a"
      },
      "execution_count": 55,
      "outputs": [
        {
          "output_type": "stream",
          "name": "stdout",
          "text": [
            "{1, 2, 3}\n"
          ]
        }
      ]
    },
    {
      "cell_type": "code",
      "source": [
        "#19. Write a code to find the union of two sets {1, 2, 3} and {3, 4, 5}.\n",
        "\n",
        "set1={1, 2, 3}\n",
        "set2={4, 2, 5}\n",
        "set1.union(set2)"
      ],
      "metadata": {
        "colab": {
          "base_uri": "https://localhost:8080/"
        },
        "id": "wyD5Zsy_IxGf",
        "outputId": "5fc08877-40fe-4f34-8c66-6a61954a0898"
      },
      "execution_count": 57,
      "outputs": [
        {
          "output_type": "execute_result",
          "data": {
            "text/plain": [
              "{1, 2, 3, 4, 5}"
            ]
          },
          "metadata": {},
          "execution_count": 57
        }
      ]
    },
    {
      "cell_type": "code",
      "source": [
        "#20. Write a code to find the intersection of two sets {1, 2, 3} and {2, 3, 4}.\n",
        "\n",
        "set1={1, 2, 3}\n",
        "set2={5, 3, 1}\n",
        "set1.intersection(set2)"
      ],
      "metadata": {
        "colab": {
          "base_uri": "https://localhost:8080/"
        },
        "id": "CQEke4X-I8A5",
        "outputId": "4f9b88e8-73af-4712-dfa9-d8cd054d3773"
      },
      "execution_count": 60,
      "outputs": [
        {
          "output_type": "execute_result",
          "data": {
            "text/plain": [
              "{1, 3}"
            ]
          },
          "metadata": {},
          "execution_count": 60
        }
      ]
    },
    {
      "cell_type": "code",
      "source": [
        "#21. write a code to create a dictionary with the keys \"name\", \"age\", and \"city\", and print it.\n",
        "\n",
        "dict1={\"name\":\"Rupak\",\"age\":20,\"city\":\"Patna\"}\n",
        "print(dict1)"
      ],
      "metadata": {
        "colab": {
          "base_uri": "https://localhost:8080/"
        },
        "id": "p-ZstmO2JIyb",
        "outputId": "e69c5144-409b-4723-e1fc-5a09616ba951"
      },
      "execution_count": 61,
      "outputs": [
        {
          "output_type": "stream",
          "name": "stdout",
          "text": [
            "{'name': 'Rupak', 'age': 20, 'city': 'Patna'}\n"
          ]
        }
      ]
    },
    {
      "cell_type": "code",
      "source": [
        "#22. Write a code to add a new key-value pair \"country\": \"USA\" to the dictionary {'name': 'John', 'age': 25}.\n",
        "\n",
        "dict1={'name': 'John', 'age': 25}\n",
        "dict1['country']=\"England\"\n",
        "print(dict1)"
      ],
      "metadata": {
        "colab": {
          "base_uri": "https://localhost:8080/"
        },
        "id": "zp2jcg_BJVkL",
        "outputId": "f0a52bc9-0ede-4eca-f462-339076822b40"
      },
      "execution_count": 62,
      "outputs": [
        {
          "output_type": "stream",
          "name": "stdout",
          "text": [
            "{'name': 'John', 'age': 25, 'country': 'England'}\n"
          ]
        }
      ]
    },
    {
      "cell_type": "code",
      "source": [
        "#23.  Write a code to access the value associated with the key \"name\" in the dictionary {'name': 'Alice', 'age': 30}.\n",
        "\n",
        "dict1={'name': 'Alice', 'age': 30}\n",
        "dict1['name']"
      ],
      "metadata": {
        "colab": {
          "base_uri": "https://localhost:8080/",
          "height": 36
        },
        "id": "yi-dbla7JiSW",
        "outputId": "8cf5e343-17fe-4a46-dcff-16c6e1fd5a63"
      },
      "execution_count": 63,
      "outputs": [
        {
          "output_type": "execute_result",
          "data": {
            "text/plain": [
              "'Alice'"
            ],
            "application/vnd.google.colaboratory.intrinsic+json": {
              "type": "string"
            }
          },
          "metadata": {},
          "execution_count": 63
        }
      ]
    },
    {
      "cell_type": "code",
      "source": [
        "#24. Write a code to remove the key \"age\" from the dictionary {'name': 'Bob', 'age': 22, 'city': 'New York'}.\n",
        "\n",
        "dict1={'name': 'Bob', 'age': 22, 'city': 'New York'}\n",
        "dict1.pop('age')\n",
        "print(dict1)\n"
      ],
      "metadata": {
        "colab": {
          "base_uri": "https://localhost:8080/"
        },
        "id": "EnVebVJ9LBfU",
        "outputId": "cd654cc4-32a9-4028-832c-4c5ca7ebf371"
      },
      "execution_count": 65,
      "outputs": [
        {
          "output_type": "stream",
          "name": "stdout",
          "text": [
            "{'name': 'Bob', 'city': 'New York'}\n"
          ]
        }
      ]
    },
    {
      "cell_type": "code",
      "source": [
        "#25. Write a code to check if the key \"city\" exists in the dictionary {'name': 'Alice', 'city': 'Paris'}.\n",
        "\n",
        "dict1={'name': 'Alice', 'city': 'Paris'}\n",
        "'city' in dict1\n",
        ""
      ],
      "metadata": {
        "colab": {
          "base_uri": "https://localhost:8080/"
        },
        "id": "yP5SA5plLLr3",
        "outputId": "97e767d9-0453-4e04-d967-d278915ce43d"
      },
      "execution_count": 67,
      "outputs": [
        {
          "output_type": "execute_result",
          "data": {
            "text/plain": [
              "True"
            ]
          },
          "metadata": {},
          "execution_count": 67
        }
      ]
    },
    {
      "cell_type": "code",
      "source": [
        "#26. Write a code to create a list, a tuple, and a dictionary, and print them all.\n",
        "\n",
        "l1=list(range(1,11))\n",
        "print(\"list\",l1)\n",
        "tup1=(1,2,3,4,5)\n",
        "print(\"tuple\",tup1)\n",
        "dict1={\"name\":\"Rupak\",\"age\":20,\"city\":\"Patna\"}\n",
        "print(\"dictionary\",dict1)\n"
      ],
      "metadata": {
        "colab": {
          "base_uri": "https://localhost:8080/"
        },
        "id": "H0rgNfF3LVJf",
        "outputId": "f5f40605-4b68-419b-aefd-fec01b533fc6"
      },
      "execution_count": 69,
      "outputs": [
        {
          "output_type": "stream",
          "name": "stdout",
          "text": [
            "list [1, 2, 3, 4, 5, 6, 7, 8, 9, 10]\n",
            "tuple (1, 2, 3, 4, 5)\n",
            "dictionary {'name': 'Rupak', 'age': 20, 'city': 'Patna'}\n"
          ]
        }
      ]
    },
    {
      "cell_type": "code",
      "source": [
        "#27. Write a code to create a list of 5 random numbers between 1 and 100, sort it in ascending order, and print the result.(replaced)\n",
        "\n",
        "import random\n",
        "\n",
        "numbers = [random.randint(1, 100) for _ in range(5)]\n",
        "print(\"original list\",numbers)\n",
        "numbers.sort()\n",
        "print(\"after sorting in ascending \",numbers)"
      ],
      "metadata": {
        "colab": {
          "base_uri": "https://localhost:8080/"
        },
        "id": "KOSgwjMSLwFY",
        "outputId": "3be2e725-241a-4553-bc57-4660433c68db"
      },
      "execution_count": 71,
      "outputs": [
        {
          "output_type": "stream",
          "name": "stdout",
          "text": [
            "original list [32, 1, 4, 23, 24]\n",
            "after sorting in ascending  [1, 4, 23, 24, 32]\n"
          ]
        }
      ]
    },
    {
      "cell_type": "code",
      "source": [
        "#28. Write a code to create a list with strings and print the element at the third index.\n",
        "\n",
        "l1=[\"rupak\",\"singh\",\"age_20\",\"patna\",\"Data Science\"]\n",
        "l1[3]"
      ],
      "metadata": {
        "colab": {
          "base_uri": "https://localhost:8080/",
          "height": 36
        },
        "id": "NEEzjaHeMkC8",
        "outputId": "f29f4514-0738-436a-94d3-7f8a40d2b0e3"
      },
      "execution_count": 73,
      "outputs": [
        {
          "output_type": "execute_result",
          "data": {
            "text/plain": [
              "'patna'"
            ],
            "application/vnd.google.colaboratory.intrinsic+json": {
              "type": "string"
            }
          },
          "metadata": {},
          "execution_count": 73
        }
      ]
    },
    {
      "cell_type": "code",
      "source": [
        "#29. Write a code to combine two dictionaries into one and print the result.\n",
        "\n",
        "dict1={\"name1\":\"Rupak\",\"age1\":20,\"city1\":\"Patna\"}\n",
        "dict2={\"name2\":\"Sakshi\",\"age2\":22,\"city2\":\"Delhi\"}\n",
        "combined = (dict1  | dict2)\n",
        "print(combined)"
      ],
      "metadata": {
        "colab": {
          "base_uri": "https://localhost:8080/"
        },
        "id": "1noRdvGjM_Y2",
        "outputId": "dc30165c-1b46-4ba4-e05e-3afd9635a64f"
      },
      "execution_count": 83,
      "outputs": [
        {
          "output_type": "stream",
          "name": "stdout",
          "text": [
            "{'name1': 'Rupak', 'age1': 20, 'city1': 'Patna', 'name2': 'Sakshi', 'age2': 22, 'city2': 'Delhi'}\n"
          ]
        }
      ]
    },
    {
      "cell_type": "code",
      "source": [
        "#30. Write a code to convert a list of strings into a set.\n",
        "\n",
        "l1=[\"rupak\",\"singh\",\"age_20\",\"patna\",\"Data Science\",\"rupak\"]\n",
        "set1=set(l1)\n",
        "print(set1)"
      ],
      "metadata": {
        "colab": {
          "base_uri": "https://localhost:8080/"
        },
        "id": "nDQDoXCfOQSY",
        "outputId": "5493c630-4e30-4514-d734-bd06c4078512"
      },
      "execution_count": 85,
      "outputs": [
        {
          "output_type": "stream",
          "name": "stdout",
          "text": [
            "{'age_20', 'patna', 'singh', 'rupak', 'Data Science'}\n"
          ]
        }
      ]
    }
  ]
}